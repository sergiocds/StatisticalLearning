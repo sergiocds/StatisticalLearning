{
 "cells": [
  {
   "attachments": {},
   "cell_type": "markdown",
   "metadata": {},
   "source": [
    "### Laboratorio 2\n",
    "---  \n",
    "\n",
    "Universidad Galileo  \n",
    "Instituto de Investigación de Operaciones  \n",
    "Maestría en Data Science  \n",
    "Statistical Learning 1, sección U  \n",
    "Segundo ciclo 2023\n",
    "\n",
    "**Sergio Josué Castillo Custodio, Carnet 202300331**"
   ]
  },
  {
   "attachments": {},
   "cell_type": "markdown",
   "metadata": {},
   "source": [
    "#### Cargando Librerías"
   ]
  },
  {
   "cell_type": "code",
   "execution_count": 1,
   "metadata": {},
   "outputs": [],
   "source": [
    "import pandas as pd\n",
    "import numpy as np\n",
    "import pylab as pl\n",
    "import matplotlib.pyplot as plt\n",
    "import seaborn as sns"
   ]
  },
  {
   "attachments": {},
   "cell_type": "markdown",
   "metadata": {},
   "source": [
    "#### Cargando Dataset"
   ]
  },
  {
   "cell_type": "code",
   "execution_count": 2,
   "metadata": {},
   "outputs": [],
   "source": [
    "dataset=pd.read_csv('/Users/sergiocastillo/Documents/Academics/Master/Data Science/Courseware/4 Statistical Learning 1/Tareas/2/Lab2-databici.csv')"
   ]
  },
  {
   "attachments": {},
   "cell_type": "markdown",
   "metadata": {},
   "source": [
    "#### Descripción del Dataset\n",
    "\n",
    "Los sistemas de renta de bicicletas se basan en kioskos que son puestos en diferentes áreas de una ciudad. En estos kioskos las personas pueden suscribirse, rentar y devolver las bicicletas.\n",
    "\n",
    "Esto permite que el usuario rente un bicicleta y la pueda devolver en otro lado.\n",
    "\n",
    "##### Descripción de variables\n",
    "\n",
    "**instant**: *instant* - works as row ID\n",
    "**datetime**: *dteday*  - hourly date + timestamp  \n",
    "**season**: *season* -  \n",
    "&emsp;* 1 = spring,  \n",
    "&emsp;* 2 = summer,  \n",
    "&emsp;* 3 = fall,  \n",
    "&emsp;* 4 = winter  \n",
    "**year**: *yr* - number of year within dataset  \n",
    "**month**: *mnth* - number of month within dataset  \n",
    "**hour**: *hr* - number of hour within dataset  \n",
    "**holiday**: *holiday* - whether the day is considered a holiday  \n",
    "**weekday**: *weekday* - number of day in a week\n",
    "**workingday**: *workingday* - whether the day is neither a weekend nor holiday  \n",
    "**weather**: *wheathersit* -  \n",
    "&emsp;* 1: Clear, Few clouds, Partly cloudy, Partly cloudy  \n",
    "&emsp;* 2: Mist + Cloudy, Mist + Broken clouds, Mist + Few clouds, Mist  \n",
    "&emsp;* 3: Light Snow, Light Rain + Thunderstorm + Scattered clouds, Light Rain + Scattered clouds  \n",
    "&emsp;* 4: Heavy Rain + Ice Pallets + Thunderstorm + Mist, Snow + Fog  \n",
    "**temperature**: *temp* - temperature in Celsius  \n",
    "**thermal sensation**: *atemp* - “feels like” temperature in Celsius  \n",
    "**humidity**: *hum* - relative humidity  \n",
    "**windspeed**: *windspeed* - wind speed  \n",
    "**casual**: *casual* - number of non-registered user rentals initiated  \n",
    "**registered**: *registered* - number of registered user rentals initiated  \n",
    "**count**: *cnt* - number of total rentals"
   ]
  },
  {
   "attachments": {},
   "cell_type": "markdown",
   "metadata": {},
   "source": [
    "#### Preview del Dataset"
   ]
  },
  {
   "cell_type": "code",
   "execution_count": 5,
   "metadata": {},
   "outputs": [
    {
     "data": {
      "text/html": [
       "<div>\n",
       "<style scoped>\n",
       "    .dataframe tbody tr th:only-of-type {\n",
       "        vertical-align: middle;\n",
       "    }\n",
       "\n",
       "    .dataframe tbody tr th {\n",
       "        vertical-align: top;\n",
       "    }\n",
       "\n",
       "    .dataframe thead th {\n",
       "        text-align: right;\n",
       "    }\n",
       "</style>\n",
       "<table border=\"1\" class=\"dataframe\">\n",
       "  <thead>\n",
       "    <tr style=\"text-align: right;\">\n",
       "      <th></th>\n",
       "      <th>instant</th>\n",
       "      <th>dteday</th>\n",
       "      <th>season</th>\n",
       "      <th>yr</th>\n",
       "      <th>mnth</th>\n",
       "      <th>hr</th>\n",
       "      <th>holiday</th>\n",
       "      <th>weekday</th>\n",
       "      <th>workingday</th>\n",
       "      <th>weathersit</th>\n",
       "      <th>temp</th>\n",
       "      <th>atemp</th>\n",
       "      <th>hum</th>\n",
       "      <th>windspeed</th>\n",
       "      <th>casual</th>\n",
       "      <th>registered</th>\n",
       "      <th>cnt</th>\n",
       "    </tr>\n",
       "  </thead>\n",
       "  <tbody>\n",
       "    <tr>\n",
       "      <th>0</th>\n",
       "      <td>1</td>\n",
       "      <td>2011-01-01</td>\n",
       "      <td>1</td>\n",
       "      <td>0</td>\n",
       "      <td>1</td>\n",
       "      <td>0</td>\n",
       "      <td>0</td>\n",
       "      <td>6</td>\n",
       "      <td>0</td>\n",
       "      <td>1</td>\n",
       "      <td>0.24</td>\n",
       "      <td>0.2879</td>\n",
       "      <td>0.81</td>\n",
       "      <td>0.0</td>\n",
       "      <td>3</td>\n",
       "      <td>13</td>\n",
       "      <td>16</td>\n",
       "    </tr>\n",
       "    <tr>\n",
       "      <th>1</th>\n",
       "      <td>2</td>\n",
       "      <td>2011-01-01</td>\n",
       "      <td>1</td>\n",
       "      <td>0</td>\n",
       "      <td>1</td>\n",
       "      <td>1</td>\n",
       "      <td>0</td>\n",
       "      <td>6</td>\n",
       "      <td>0</td>\n",
       "      <td>1</td>\n",
       "      <td>0.22</td>\n",
       "      <td>0.2727</td>\n",
       "      <td>0.80</td>\n",
       "      <td>0.0</td>\n",
       "      <td>8</td>\n",
       "      <td>32</td>\n",
       "      <td>40</td>\n",
       "    </tr>\n",
       "    <tr>\n",
       "      <th>2</th>\n",
       "      <td>3</td>\n",
       "      <td>2011-01-01</td>\n",
       "      <td>1</td>\n",
       "      <td>0</td>\n",
       "      <td>1</td>\n",
       "      <td>2</td>\n",
       "      <td>0</td>\n",
       "      <td>6</td>\n",
       "      <td>0</td>\n",
       "      <td>1</td>\n",
       "      <td>0.22</td>\n",
       "      <td>0.2727</td>\n",
       "      <td>0.80</td>\n",
       "      <td>0.0</td>\n",
       "      <td>5</td>\n",
       "      <td>27</td>\n",
       "      <td>32</td>\n",
       "    </tr>\n",
       "    <tr>\n",
       "      <th>3</th>\n",
       "      <td>4</td>\n",
       "      <td>2011-01-01</td>\n",
       "      <td>1</td>\n",
       "      <td>0</td>\n",
       "      <td>1</td>\n",
       "      <td>3</td>\n",
       "      <td>0</td>\n",
       "      <td>6</td>\n",
       "      <td>0</td>\n",
       "      <td>1</td>\n",
       "      <td>0.24</td>\n",
       "      <td>0.2879</td>\n",
       "      <td>0.75</td>\n",
       "      <td>0.0</td>\n",
       "      <td>3</td>\n",
       "      <td>10</td>\n",
       "      <td>13</td>\n",
       "    </tr>\n",
       "    <tr>\n",
       "      <th>4</th>\n",
       "      <td>5</td>\n",
       "      <td>2011-01-01</td>\n",
       "      <td>1</td>\n",
       "      <td>0</td>\n",
       "      <td>1</td>\n",
       "      <td>4</td>\n",
       "      <td>0</td>\n",
       "      <td>6</td>\n",
       "      <td>0</td>\n",
       "      <td>1</td>\n",
       "      <td>0.24</td>\n",
       "      <td>0.2879</td>\n",
       "      <td>0.75</td>\n",
       "      <td>0.0</td>\n",
       "      <td>0</td>\n",
       "      <td>1</td>\n",
       "      <td>1</td>\n",
       "    </tr>\n",
       "  </tbody>\n",
       "</table>\n",
       "</div>"
      ],
      "text/plain": [
       "   instant      dteday  season  yr  mnth  hr  holiday  weekday  workingday  \\\n",
       "0        1  2011-01-01       1   0     1   0        0        6           0   \n",
       "1        2  2011-01-01       1   0     1   1        0        6           0   \n",
       "2        3  2011-01-01       1   0     1   2        0        6           0   \n",
       "3        4  2011-01-01       1   0     1   3        0        6           0   \n",
       "4        5  2011-01-01       1   0     1   4        0        6           0   \n",
       "\n",
       "   weathersit  temp   atemp   hum  windspeed  casual  registered  cnt  \n",
       "0           1  0.24  0.2879  0.81        0.0       3          13   16  \n",
       "1           1  0.22  0.2727  0.80        0.0       8          32   40  \n",
       "2           1  0.22  0.2727  0.80        0.0       5          27   32  \n",
       "3           1  0.24  0.2879  0.75        0.0       3          10   13  \n",
       "4           1  0.24  0.2879  0.75        0.0       0           1    1  "
      ]
     },
     "execution_count": 5,
     "metadata": {},
     "output_type": "execute_result"
    }
   ],
   "source": [
    "dataset.head()"
   ]
  },
  {
   "cell_type": "code",
   "execution_count": 6,
   "metadata": {},
   "outputs": [
    {
     "data": {
      "text/html": [
       "<div>\n",
       "<style scoped>\n",
       "    .dataframe tbody tr th:only-of-type {\n",
       "        vertical-align: middle;\n",
       "    }\n",
       "\n",
       "    .dataframe tbody tr th {\n",
       "        vertical-align: top;\n",
       "    }\n",
       "\n",
       "    .dataframe thead th {\n",
       "        text-align: right;\n",
       "    }\n",
       "</style>\n",
       "<table border=\"1\" class=\"dataframe\">\n",
       "  <thead>\n",
       "    <tr style=\"text-align: right;\">\n",
       "      <th></th>\n",
       "      <th>instant</th>\n",
       "      <th>season</th>\n",
       "      <th>yr</th>\n",
       "      <th>mnth</th>\n",
       "      <th>hr</th>\n",
       "      <th>holiday</th>\n",
       "      <th>weekday</th>\n",
       "      <th>workingday</th>\n",
       "      <th>weathersit</th>\n",
       "      <th>temp</th>\n",
       "      <th>atemp</th>\n",
       "      <th>hum</th>\n",
       "      <th>windspeed</th>\n",
       "      <th>casual</th>\n",
       "      <th>registered</th>\n",
       "      <th>cnt</th>\n",
       "    </tr>\n",
       "  </thead>\n",
       "  <tbody>\n",
       "    <tr>\n",
       "      <th>count</th>\n",
       "      <td>17379.0000</td>\n",
       "      <td>17379.000000</td>\n",
       "      <td>17379.000000</td>\n",
       "      <td>17379.000000</td>\n",
       "      <td>17379.000000</td>\n",
       "      <td>17379.000000</td>\n",
       "      <td>17379.000000</td>\n",
       "      <td>17379.000000</td>\n",
       "      <td>17379.000000</td>\n",
       "      <td>17379.000000</td>\n",
       "      <td>17379.000000</td>\n",
       "      <td>17379.000000</td>\n",
       "      <td>17379.000000</td>\n",
       "      <td>17379.000000</td>\n",
       "      <td>17379.000000</td>\n",
       "      <td>17379.000000</td>\n",
       "    </tr>\n",
       "    <tr>\n",
       "      <th>mean</th>\n",
       "      <td>8690.0000</td>\n",
       "      <td>2.501640</td>\n",
       "      <td>0.502561</td>\n",
       "      <td>6.537775</td>\n",
       "      <td>11.546752</td>\n",
       "      <td>0.028770</td>\n",
       "      <td>3.003683</td>\n",
       "      <td>0.682721</td>\n",
       "      <td>1.425283</td>\n",
       "      <td>0.496987</td>\n",
       "      <td>0.475775</td>\n",
       "      <td>0.627229</td>\n",
       "      <td>0.190098</td>\n",
       "      <td>35.676218</td>\n",
       "      <td>153.786869</td>\n",
       "      <td>189.463088</td>\n",
       "    </tr>\n",
       "    <tr>\n",
       "      <th>std</th>\n",
       "      <td>5017.0295</td>\n",
       "      <td>1.106918</td>\n",
       "      <td>0.500008</td>\n",
       "      <td>3.438776</td>\n",
       "      <td>6.914405</td>\n",
       "      <td>0.167165</td>\n",
       "      <td>2.005771</td>\n",
       "      <td>0.465431</td>\n",
       "      <td>0.639357</td>\n",
       "      <td>0.192556</td>\n",
       "      <td>0.171850</td>\n",
       "      <td>0.192930</td>\n",
       "      <td>0.122340</td>\n",
       "      <td>49.305030</td>\n",
       "      <td>151.357286</td>\n",
       "      <td>181.387599</td>\n",
       "    </tr>\n",
       "    <tr>\n",
       "      <th>min</th>\n",
       "      <td>1.0000</td>\n",
       "      <td>1.000000</td>\n",
       "      <td>0.000000</td>\n",
       "      <td>1.000000</td>\n",
       "      <td>0.000000</td>\n",
       "      <td>0.000000</td>\n",
       "      <td>0.000000</td>\n",
       "      <td>0.000000</td>\n",
       "      <td>1.000000</td>\n",
       "      <td>0.020000</td>\n",
       "      <td>0.000000</td>\n",
       "      <td>0.000000</td>\n",
       "      <td>0.000000</td>\n",
       "      <td>0.000000</td>\n",
       "      <td>0.000000</td>\n",
       "      <td>1.000000</td>\n",
       "    </tr>\n",
       "    <tr>\n",
       "      <th>25%</th>\n",
       "      <td>4345.5000</td>\n",
       "      <td>2.000000</td>\n",
       "      <td>0.000000</td>\n",
       "      <td>4.000000</td>\n",
       "      <td>6.000000</td>\n",
       "      <td>0.000000</td>\n",
       "      <td>1.000000</td>\n",
       "      <td>0.000000</td>\n",
       "      <td>1.000000</td>\n",
       "      <td>0.340000</td>\n",
       "      <td>0.333300</td>\n",
       "      <td>0.480000</td>\n",
       "      <td>0.104500</td>\n",
       "      <td>4.000000</td>\n",
       "      <td>34.000000</td>\n",
       "      <td>40.000000</td>\n",
       "    </tr>\n",
       "    <tr>\n",
       "      <th>50%</th>\n",
       "      <td>8690.0000</td>\n",
       "      <td>3.000000</td>\n",
       "      <td>1.000000</td>\n",
       "      <td>7.000000</td>\n",
       "      <td>12.000000</td>\n",
       "      <td>0.000000</td>\n",
       "      <td>3.000000</td>\n",
       "      <td>1.000000</td>\n",
       "      <td>1.000000</td>\n",
       "      <td>0.500000</td>\n",
       "      <td>0.484800</td>\n",
       "      <td>0.630000</td>\n",
       "      <td>0.194000</td>\n",
       "      <td>17.000000</td>\n",
       "      <td>115.000000</td>\n",
       "      <td>142.000000</td>\n",
       "    </tr>\n",
       "    <tr>\n",
       "      <th>75%</th>\n",
       "      <td>13034.5000</td>\n",
       "      <td>3.000000</td>\n",
       "      <td>1.000000</td>\n",
       "      <td>10.000000</td>\n",
       "      <td>18.000000</td>\n",
       "      <td>0.000000</td>\n",
       "      <td>5.000000</td>\n",
       "      <td>1.000000</td>\n",
       "      <td>2.000000</td>\n",
       "      <td>0.660000</td>\n",
       "      <td>0.621200</td>\n",
       "      <td>0.780000</td>\n",
       "      <td>0.253700</td>\n",
       "      <td>48.000000</td>\n",
       "      <td>220.000000</td>\n",
       "      <td>281.000000</td>\n",
       "    </tr>\n",
       "    <tr>\n",
       "      <th>max</th>\n",
       "      <td>17379.0000</td>\n",
       "      <td>4.000000</td>\n",
       "      <td>1.000000</td>\n",
       "      <td>12.000000</td>\n",
       "      <td>23.000000</td>\n",
       "      <td>1.000000</td>\n",
       "      <td>6.000000</td>\n",
       "      <td>1.000000</td>\n",
       "      <td>4.000000</td>\n",
       "      <td>1.000000</td>\n",
       "      <td>1.000000</td>\n",
       "      <td>1.000000</td>\n",
       "      <td>0.850700</td>\n",
       "      <td>367.000000</td>\n",
       "      <td>886.000000</td>\n",
       "      <td>977.000000</td>\n",
       "    </tr>\n",
       "  </tbody>\n",
       "</table>\n",
       "</div>"
      ],
      "text/plain": [
       "          instant        season            yr          mnth            hr  \\\n",
       "count  17379.0000  17379.000000  17379.000000  17379.000000  17379.000000   \n",
       "mean    8690.0000      2.501640      0.502561      6.537775     11.546752   \n",
       "std     5017.0295      1.106918      0.500008      3.438776      6.914405   \n",
       "min        1.0000      1.000000      0.000000      1.000000      0.000000   \n",
       "25%     4345.5000      2.000000      0.000000      4.000000      6.000000   \n",
       "50%     8690.0000      3.000000      1.000000      7.000000     12.000000   \n",
       "75%    13034.5000      3.000000      1.000000     10.000000     18.000000   \n",
       "max    17379.0000      4.000000      1.000000     12.000000     23.000000   \n",
       "\n",
       "            holiday       weekday    workingday    weathersit          temp  \\\n",
       "count  17379.000000  17379.000000  17379.000000  17379.000000  17379.000000   \n",
       "mean       0.028770      3.003683      0.682721      1.425283      0.496987   \n",
       "std        0.167165      2.005771      0.465431      0.639357      0.192556   \n",
       "min        0.000000      0.000000      0.000000      1.000000      0.020000   \n",
       "25%        0.000000      1.000000      0.000000      1.000000      0.340000   \n",
       "50%        0.000000      3.000000      1.000000      1.000000      0.500000   \n",
       "75%        0.000000      5.000000      1.000000      2.000000      0.660000   \n",
       "max        1.000000      6.000000      1.000000      4.000000      1.000000   \n",
       "\n",
       "              atemp           hum     windspeed        casual    registered  \\\n",
       "count  17379.000000  17379.000000  17379.000000  17379.000000  17379.000000   \n",
       "mean       0.475775      0.627229      0.190098     35.676218    153.786869   \n",
       "std        0.171850      0.192930      0.122340     49.305030    151.357286   \n",
       "min        0.000000      0.000000      0.000000      0.000000      0.000000   \n",
       "25%        0.333300      0.480000      0.104500      4.000000     34.000000   \n",
       "50%        0.484800      0.630000      0.194000     17.000000    115.000000   \n",
       "75%        0.621200      0.780000      0.253700     48.000000    220.000000   \n",
       "max        1.000000      1.000000      0.850700    367.000000    886.000000   \n",
       "\n",
       "                cnt  \n",
       "count  17379.000000  \n",
       "mean     189.463088  \n",
       "std      181.387599  \n",
       "min        1.000000  \n",
       "25%       40.000000  \n",
       "50%      142.000000  \n",
       "75%      281.000000  \n",
       "max      977.000000  "
      ]
     },
     "execution_count": 6,
     "metadata": {},
     "output_type": "execute_result"
    }
   ],
   "source": [
    "dataset.describe()"
   ]
  },
  {
   "attachments": {},
   "cell_type": "markdown",
   "metadata": {},
   "source": [
    "#### Preparando Dataset"
   ]
  },
  {
   "cell_type": "code",
   "execution_count": 7,
   "metadata": {},
   "outputs": [
    {
     "name": "stdout",
     "output_type": "stream",
     "text": [
      "<class 'pandas.core.frame.DataFrame'>\n",
      "RangeIndex: 17379 entries, 0 to 17378\n",
      "Data columns (total 17 columns):\n",
      " #   Column      Non-Null Count  Dtype  \n",
      "---  ------      --------------  -----  \n",
      " 0   instant     17379 non-null  int64  \n",
      " 1   dteday      17379 non-null  object \n",
      " 2   season      17379 non-null  int64  \n",
      " 3   yr          17379 non-null  int64  \n",
      " 4   mnth        17379 non-null  int64  \n",
      " 5   hr          17379 non-null  int64  \n",
      " 6   holiday     17379 non-null  int64  \n",
      " 7   weekday     17379 non-null  int64  \n",
      " 8   workingday  17379 non-null  int64  \n",
      " 9   weathersit  17379 non-null  int64  \n",
      " 10  temp        17379 non-null  float64\n",
      " 11  atemp       17379 non-null  float64\n",
      " 12  hum         17379 non-null  float64\n",
      " 13  windspeed   17379 non-null  float64\n",
      " 14  casual      17379 non-null  int64  \n",
      " 15  registered  17379 non-null  int64  \n",
      " 16  cnt         17379 non-null  int64  \n",
      "dtypes: float64(4), int64(12), object(1)\n",
      "memory usage: 2.3+ MB\n"
     ]
    }
   ],
   "source": [
    "# Verificando existencia de valores *null*\n",
    "dataset.info()"
   ]
  },
  {
   "attachments": {},
   "cell_type": "markdown",
   "metadata": {},
   "source": [
    "Al verificar el resultado de dataset.info(), podemos observar que para ninguna de las columnas hay valores *null*.\n",
    "\n",
    "También se puede observar que las variables categóricas del dataset están almacenadas como enteros, de acuerdo a la clasificación descrita anteriormente en la sección *Descripción del Dataset*.\n",
    "\n",
    "Para facilitar el análisis, se utilizará el data type *category* de pandas para las variables categóricas. Esta es una función exclusiva que permite tratar variables categóricas tal y como lo que estadísticamente representan: variables que toman un número límitado, usualmente fijo, de posibles valores.\n",
    "\n",
    "Las variables *season*, *yr*, *mnth*, *hr*, *holiday*, *weekday*, *workingday*, *weathersit* se convertirán de integer a categorical de pandas."
   ]
  },
  {
   "cell_type": "code",
   "execution_count": 8,
   "metadata": {},
   "outputs": [
    {
     "name": "stdout",
     "output_type": "stream",
     "text": [
      "<class 'pandas.core.frame.DataFrame'>\n",
      "RangeIndex: 17379 entries, 0 to 17378\n",
      "Data columns (total 17 columns):\n",
      " #   Column      Non-Null Count  Dtype   \n",
      "---  ------      --------------  -----   \n",
      " 0   instant     17379 non-null  int64   \n",
      " 1   dteday      17379 non-null  object  \n",
      " 2   season      17379 non-null  category\n",
      " 3   yr          17379 non-null  category\n",
      " 4   mnth        17379 non-null  category\n",
      " 5   hr          17379 non-null  category\n",
      " 6   holiday     17379 non-null  category\n",
      " 7   weekday     17379 non-null  category\n",
      " 8   workingday  17379 non-null  category\n",
      " 9   weathersit  17379 non-null  category\n",
      " 10  temp        17379 non-null  float64 \n",
      " 11  atemp       17379 non-null  float64 \n",
      " 12  hum         17379 non-null  float64 \n",
      " 13  windspeed   17379 non-null  float64 \n",
      " 14  casual      17379 non-null  int64   \n",
      " 15  registered  17379 non-null  int64   \n",
      " 16  cnt         17379 non-null  int64   \n",
      "dtypes: category(8), float64(4), int64(4), object(1)\n",
      "memory usage: 1.3+ MB\n"
     ]
    }
   ],
   "source": [
    "# Convirtiendo variables seleccionadas a categóricas.\n",
    "for col in ['season','yr','mnth','hr','holiday','weekday','workingday','weathersit']:\n",
    "    dataset[col]=dataset[col].astype('category')\n",
    "# Verificando si conversión se tipos de datos se realizó de forma correcta\n",
    "dataset.info()"
   ]
  },
  {
   "attachments": {},
   "cell_type": "markdown",
   "metadata": {},
   "source": [
    "Como se puede comprobar, las variables seleccionadas efectivamente ahora tienen el *data type* *'category'*."
   ]
  },
  {
   "attachments": {},
   "cell_type": "markdown",
   "metadata": {},
   "source": [
    "#### Análisis Exploratorio"
   ]
  },
  {
   "attachments": {},
   "cell_type": "markdown",
   "metadata": {},
   "source": [
    "##### Análisis de Correlaciones"
   ]
  },
  {
   "cell_type": "code",
   "execution_count": 9,
   "metadata": {},
   "outputs": [],
   "source": [
    "# Copiando DataFrame para análisis exploratorio\n",
    "datasetxa=dataset\n",
    "# Eliminando columnas que no se requerirán para el análisis de correlaciones\n",
    "datasetxa=datasetxa.drop(columns=['instant', 'dteday'])\n",
    "# Convirtiendo todo a float para incluid variables categóricas en el análisis de correlaciones\n",
    "datasetxa=datasetxa.astype('Float64')"
   ]
  },
  {
   "cell_type": "code",
   "execution_count": 10,
   "metadata": {},
   "outputs": [
    {
     "name": "stdout",
     "output_type": "stream",
     "text": [
      "Matriz de Correlaciones\n"
     ]
    },
    {
     "data": {
      "text/html": [
       "<div>\n",
       "<style scoped>\n",
       "    .dataframe tbody tr th:only-of-type {\n",
       "        vertical-align: middle;\n",
       "    }\n",
       "\n",
       "    .dataframe tbody tr th {\n",
       "        vertical-align: top;\n",
       "    }\n",
       "\n",
       "    .dataframe thead th {\n",
       "        text-align: right;\n",
       "    }\n",
       "</style>\n",
       "<table border=\"1\" class=\"dataframe\">\n",
       "  <thead>\n",
       "    <tr style=\"text-align: right;\">\n",
       "      <th></th>\n",
       "      <th>season</th>\n",
       "      <th>yr</th>\n",
       "      <th>mnth</th>\n",
       "      <th>hr</th>\n",
       "      <th>holiday</th>\n",
       "      <th>weekday</th>\n",
       "      <th>workingday</th>\n",
       "      <th>weathersit</th>\n",
       "      <th>temp</th>\n",
       "      <th>atemp</th>\n",
       "      <th>hum</th>\n",
       "      <th>windspeed</th>\n",
       "      <th>casual</th>\n",
       "      <th>registered</th>\n",
       "      <th>cnt</th>\n",
       "    </tr>\n",
       "  </thead>\n",
       "  <tbody>\n",
       "    <tr>\n",
       "      <th>season</th>\n",
       "      <td>1.000000</td>\n",
       "      <td>-0.010742</td>\n",
       "      <td>0.830386</td>\n",
       "      <td>-0.006117</td>\n",
       "      <td>-0.009585</td>\n",
       "      <td>-0.002335</td>\n",
       "      <td>0.013743</td>\n",
       "      <td>-0.014524</td>\n",
       "      <td>0.312025</td>\n",
       "      <td>0.319380</td>\n",
       "      <td>0.150625</td>\n",
       "      <td>-0.149773</td>\n",
       "      <td>0.120206</td>\n",
       "      <td>0.174226</td>\n",
       "      <td>0.178056</td>\n",
       "    </tr>\n",
       "    <tr>\n",
       "      <th>yr</th>\n",
       "      <td>-0.010742</td>\n",
       "      <td>1.000000</td>\n",
       "      <td>-0.010473</td>\n",
       "      <td>-0.003867</td>\n",
       "      <td>0.006692</td>\n",
       "      <td>-0.004485</td>\n",
       "      <td>-0.002196</td>\n",
       "      <td>-0.019157</td>\n",
       "      <td>0.040913</td>\n",
       "      <td>0.039222</td>\n",
       "      <td>-0.083546</td>\n",
       "      <td>-0.008740</td>\n",
       "      <td>0.142779</td>\n",
       "      <td>0.253684</td>\n",
       "      <td>0.250495</td>\n",
       "    </tr>\n",
       "    <tr>\n",
       "      <th>mnth</th>\n",
       "      <td>0.830386</td>\n",
       "      <td>-0.010473</td>\n",
       "      <td>1.000000</td>\n",
       "      <td>-0.005772</td>\n",
       "      <td>0.018430</td>\n",
       "      <td>0.010400</td>\n",
       "      <td>-0.003477</td>\n",
       "      <td>0.005400</td>\n",
       "      <td>0.201691</td>\n",
       "      <td>0.208096</td>\n",
       "      <td>0.164411</td>\n",
       "      <td>-0.135386</td>\n",
       "      <td>0.068457</td>\n",
       "      <td>0.122273</td>\n",
       "      <td>0.120638</td>\n",
       "    </tr>\n",
       "    <tr>\n",
       "      <th>hr</th>\n",
       "      <td>-0.006117</td>\n",
       "      <td>-0.003867</td>\n",
       "      <td>-0.005772</td>\n",
       "      <td>1.000000</td>\n",
       "      <td>0.000479</td>\n",
       "      <td>-0.003498</td>\n",
       "      <td>0.002285</td>\n",
       "      <td>-0.020203</td>\n",
       "      <td>0.137603</td>\n",
       "      <td>0.133750</td>\n",
       "      <td>-0.276498</td>\n",
       "      <td>0.137252</td>\n",
       "      <td>0.301202</td>\n",
       "      <td>0.374141</td>\n",
       "      <td>0.394071</td>\n",
       "    </tr>\n",
       "    <tr>\n",
       "      <th>holiday</th>\n",
       "      <td>-0.009585</td>\n",
       "      <td>0.006692</td>\n",
       "      <td>0.018430</td>\n",
       "      <td>0.000479</td>\n",
       "      <td>1.000000</td>\n",
       "      <td>-0.102088</td>\n",
       "      <td>-0.252471</td>\n",
       "      <td>-0.017036</td>\n",
       "      <td>-0.027340</td>\n",
       "      <td>-0.030973</td>\n",
       "      <td>-0.010588</td>\n",
       "      <td>0.003988</td>\n",
       "      <td>0.031564</td>\n",
       "      <td>-0.047345</td>\n",
       "      <td>-0.030927</td>\n",
       "    </tr>\n",
       "    <tr>\n",
       "      <th>weekday</th>\n",
       "      <td>-0.002335</td>\n",
       "      <td>-0.004485</td>\n",
       "      <td>0.010400</td>\n",
       "      <td>-0.003498</td>\n",
       "      <td>-0.102088</td>\n",
       "      <td>1.000000</td>\n",
       "      <td>0.035955</td>\n",
       "      <td>0.003311</td>\n",
       "      <td>-0.001795</td>\n",
       "      <td>-0.008821</td>\n",
       "      <td>-0.037158</td>\n",
       "      <td>0.011502</td>\n",
       "      <td>0.032721</td>\n",
       "      <td>0.021578</td>\n",
       "      <td>0.026900</td>\n",
       "    </tr>\n",
       "    <tr>\n",
       "      <th>workingday</th>\n",
       "      <td>0.013743</td>\n",
       "      <td>-0.002196</td>\n",
       "      <td>-0.003477</td>\n",
       "      <td>0.002285</td>\n",
       "      <td>-0.252471</td>\n",
       "      <td>0.035955</td>\n",
       "      <td>1.000000</td>\n",
       "      <td>0.044672</td>\n",
       "      <td>0.055390</td>\n",
       "      <td>0.054667</td>\n",
       "      <td>0.015688</td>\n",
       "      <td>-0.011830</td>\n",
       "      <td>-0.300942</td>\n",
       "      <td>0.134326</td>\n",
       "      <td>0.030284</td>\n",
       "    </tr>\n",
       "    <tr>\n",
       "      <th>weathersit</th>\n",
       "      <td>-0.014524</td>\n",
       "      <td>-0.019157</td>\n",
       "      <td>0.005400</td>\n",
       "      <td>-0.020203</td>\n",
       "      <td>-0.017036</td>\n",
       "      <td>0.003311</td>\n",
       "      <td>0.044672</td>\n",
       "      <td>1.000000</td>\n",
       "      <td>-0.102640</td>\n",
       "      <td>-0.105563</td>\n",
       "      <td>0.418130</td>\n",
       "      <td>0.026226</td>\n",
       "      <td>-0.152628</td>\n",
       "      <td>-0.120966</td>\n",
       "      <td>-0.142426</td>\n",
       "    </tr>\n",
       "    <tr>\n",
       "      <th>temp</th>\n",
       "      <td>0.312025</td>\n",
       "      <td>0.040913</td>\n",
       "      <td>0.201691</td>\n",
       "      <td>0.137603</td>\n",
       "      <td>-0.027340</td>\n",
       "      <td>-0.001795</td>\n",
       "      <td>0.055390</td>\n",
       "      <td>-0.102640</td>\n",
       "      <td>1.000000</td>\n",
       "      <td>0.987672</td>\n",
       "      <td>-0.069881</td>\n",
       "      <td>-0.023125</td>\n",
       "      <td>0.459616</td>\n",
       "      <td>0.335361</td>\n",
       "      <td>0.404772</td>\n",
       "    </tr>\n",
       "    <tr>\n",
       "      <th>atemp</th>\n",
       "      <td>0.319380</td>\n",
       "      <td>0.039222</td>\n",
       "      <td>0.208096</td>\n",
       "      <td>0.133750</td>\n",
       "      <td>-0.030973</td>\n",
       "      <td>-0.008821</td>\n",
       "      <td>0.054667</td>\n",
       "      <td>-0.105563</td>\n",
       "      <td>0.987672</td>\n",
       "      <td>1.000000</td>\n",
       "      <td>-0.051918</td>\n",
       "      <td>-0.062336</td>\n",
       "      <td>0.454080</td>\n",
       "      <td>0.332559</td>\n",
       "      <td>0.400929</td>\n",
       "    </tr>\n",
       "    <tr>\n",
       "      <th>hum</th>\n",
       "      <td>0.150625</td>\n",
       "      <td>-0.083546</td>\n",
       "      <td>0.164411</td>\n",
       "      <td>-0.276498</td>\n",
       "      <td>-0.010588</td>\n",
       "      <td>-0.037158</td>\n",
       "      <td>0.015688</td>\n",
       "      <td>0.418130</td>\n",
       "      <td>-0.069881</td>\n",
       "      <td>-0.051918</td>\n",
       "      <td>1.000000</td>\n",
       "      <td>-0.290105</td>\n",
       "      <td>-0.347028</td>\n",
       "      <td>-0.273933</td>\n",
       "      <td>-0.322911</td>\n",
       "    </tr>\n",
       "    <tr>\n",
       "      <th>windspeed</th>\n",
       "      <td>-0.149773</td>\n",
       "      <td>-0.008740</td>\n",
       "      <td>-0.135386</td>\n",
       "      <td>0.137252</td>\n",
       "      <td>0.003988</td>\n",
       "      <td>0.011502</td>\n",
       "      <td>-0.011830</td>\n",
       "      <td>0.026226</td>\n",
       "      <td>-0.023125</td>\n",
       "      <td>-0.062336</td>\n",
       "      <td>-0.290105</td>\n",
       "      <td>1.000000</td>\n",
       "      <td>0.090287</td>\n",
       "      <td>0.082321</td>\n",
       "      <td>0.093234</td>\n",
       "    </tr>\n",
       "    <tr>\n",
       "      <th>casual</th>\n",
       "      <td>0.120206</td>\n",
       "      <td>0.142779</td>\n",
       "      <td>0.068457</td>\n",
       "      <td>0.301202</td>\n",
       "      <td>0.031564</td>\n",
       "      <td>0.032721</td>\n",
       "      <td>-0.300942</td>\n",
       "      <td>-0.152628</td>\n",
       "      <td>0.459616</td>\n",
       "      <td>0.454080</td>\n",
       "      <td>-0.347028</td>\n",
       "      <td>0.090287</td>\n",
       "      <td>1.000000</td>\n",
       "      <td>0.506618</td>\n",
       "      <td>0.694564</td>\n",
       "    </tr>\n",
       "    <tr>\n",
       "      <th>registered</th>\n",
       "      <td>0.174226</td>\n",
       "      <td>0.253684</td>\n",
       "      <td>0.122273</td>\n",
       "      <td>0.374141</td>\n",
       "      <td>-0.047345</td>\n",
       "      <td>0.021578</td>\n",
       "      <td>0.134326</td>\n",
       "      <td>-0.120966</td>\n",
       "      <td>0.335361</td>\n",
       "      <td>0.332559</td>\n",
       "      <td>-0.273933</td>\n",
       "      <td>0.082321</td>\n",
       "      <td>0.506618</td>\n",
       "      <td>1.000000</td>\n",
       "      <td>0.972151</td>\n",
       "    </tr>\n",
       "    <tr>\n",
       "      <th>cnt</th>\n",
       "      <td>0.178056</td>\n",
       "      <td>0.250495</td>\n",
       "      <td>0.120638</td>\n",
       "      <td>0.394071</td>\n",
       "      <td>-0.030927</td>\n",
       "      <td>0.026900</td>\n",
       "      <td>0.030284</td>\n",
       "      <td>-0.142426</td>\n",
       "      <td>0.404772</td>\n",
       "      <td>0.400929</td>\n",
       "      <td>-0.322911</td>\n",
       "      <td>0.093234</td>\n",
       "      <td>0.694564</td>\n",
       "      <td>0.972151</td>\n",
       "      <td>1.000000</td>\n",
       "    </tr>\n",
       "  </tbody>\n",
       "</table>\n",
       "</div>"
      ],
      "text/plain": [
       "              season        yr      mnth        hr   holiday   weekday  \\\n",
       "season      1.000000 -0.010742  0.830386 -0.006117 -0.009585 -0.002335   \n",
       "yr         -0.010742  1.000000 -0.010473 -0.003867  0.006692 -0.004485   \n",
       "mnth        0.830386 -0.010473  1.000000 -0.005772  0.018430  0.010400   \n",
       "hr         -0.006117 -0.003867 -0.005772  1.000000  0.000479 -0.003498   \n",
       "holiday    -0.009585  0.006692  0.018430  0.000479  1.000000 -0.102088   \n",
       "weekday    -0.002335 -0.004485  0.010400 -0.003498 -0.102088  1.000000   \n",
       "workingday  0.013743 -0.002196 -0.003477  0.002285 -0.252471  0.035955   \n",
       "weathersit -0.014524 -0.019157  0.005400 -0.020203 -0.017036  0.003311   \n",
       "temp        0.312025  0.040913  0.201691  0.137603 -0.027340 -0.001795   \n",
       "atemp       0.319380  0.039222  0.208096  0.133750 -0.030973 -0.008821   \n",
       "hum         0.150625 -0.083546  0.164411 -0.276498 -0.010588 -0.037158   \n",
       "windspeed  -0.149773 -0.008740 -0.135386  0.137252  0.003988  0.011502   \n",
       "casual      0.120206  0.142779  0.068457  0.301202  0.031564  0.032721   \n",
       "registered  0.174226  0.253684  0.122273  0.374141 -0.047345  0.021578   \n",
       "cnt         0.178056  0.250495  0.120638  0.394071 -0.030927  0.026900   \n",
       "\n",
       "            workingday  weathersit      temp     atemp       hum  windspeed  \\\n",
       "season        0.013743   -0.014524  0.312025  0.319380  0.150625  -0.149773   \n",
       "yr           -0.002196   -0.019157  0.040913  0.039222 -0.083546  -0.008740   \n",
       "mnth         -0.003477    0.005400  0.201691  0.208096  0.164411  -0.135386   \n",
       "hr            0.002285   -0.020203  0.137603  0.133750 -0.276498   0.137252   \n",
       "holiday      -0.252471   -0.017036 -0.027340 -0.030973 -0.010588   0.003988   \n",
       "weekday       0.035955    0.003311 -0.001795 -0.008821 -0.037158   0.011502   \n",
       "workingday    1.000000    0.044672  0.055390  0.054667  0.015688  -0.011830   \n",
       "weathersit    0.044672    1.000000 -0.102640 -0.105563  0.418130   0.026226   \n",
       "temp          0.055390   -0.102640  1.000000  0.987672 -0.069881  -0.023125   \n",
       "atemp         0.054667   -0.105563  0.987672  1.000000 -0.051918  -0.062336   \n",
       "hum           0.015688    0.418130 -0.069881 -0.051918  1.000000  -0.290105   \n",
       "windspeed    -0.011830    0.026226 -0.023125 -0.062336 -0.290105   1.000000   \n",
       "casual       -0.300942   -0.152628  0.459616  0.454080 -0.347028   0.090287   \n",
       "registered    0.134326   -0.120966  0.335361  0.332559 -0.273933   0.082321   \n",
       "cnt           0.030284   -0.142426  0.404772  0.400929 -0.322911   0.093234   \n",
       "\n",
       "              casual  registered       cnt  \n",
       "season      0.120206    0.174226  0.178056  \n",
       "yr          0.142779    0.253684  0.250495  \n",
       "mnth        0.068457    0.122273  0.120638  \n",
       "hr          0.301202    0.374141  0.394071  \n",
       "holiday     0.031564   -0.047345 -0.030927  \n",
       "weekday     0.032721    0.021578  0.026900  \n",
       "workingday -0.300942    0.134326  0.030284  \n",
       "weathersit -0.152628   -0.120966 -0.142426  \n",
       "temp        0.459616    0.335361  0.404772  \n",
       "atemp       0.454080    0.332559  0.400929  \n",
       "hum        -0.347028   -0.273933 -0.322911  \n",
       "windspeed   0.090287    0.082321  0.093234  \n",
       "casual      1.000000    0.506618  0.694564  \n",
       "registered  0.506618    1.000000  0.972151  \n",
       "cnt         0.694564    0.972151  1.000000  "
      ]
     },
     "execution_count": 10,
     "metadata": {},
     "output_type": "execute_result"
    }
   ],
   "source": [
    "# Matriz de correlaciones\n",
    "print('Matriz de Correlaciones')\n",
    "datasetxa.corr()"
   ]
  },
  {
   "cell_type": "code",
   "execution_count": 11,
   "metadata": {},
   "outputs": [
    {
     "data": {
      "text/plain": [
       "Text(0.5, 1.0, 'Mapa de Calor de Correlaciones')"
      ]
     },
     "execution_count": 11,
     "metadata": {},
     "output_type": "execute_result"
    },
    {
     "data": {
      "image/png": "[encoded data removed]",
      "text/plain": [
       "<Figure size 2000x500 with 2 Axes>"
      ]
     },
     "metadata": {},
     "output_type": "display_data"
    }
   ],
   "source": [
    "# Creando mapa de calor de matriz de correlaciones\n",
    "plt.figure(figsize=(20,5))\n",
    "mask = np.triu(np.ones_like(datasetxa.corr(), dtype=bool))\n",
    "corrmap=sns.heatmap(datasetxa.corr(), mask=mask, vmin=-1, vmax=1, cmap='PiYG', annot=True)\n",
    "corrmap.set_title('Mapa de Calor de Correlaciones', fontsize=16, pad=12)"
   ]
  },
  {
   "attachments": {},
   "cell_type": "markdown",
   "metadata": {},
   "source": [
    "**Insights**\n",
    "\n",
    "El objetivo primordial del análisis predictivo del dataset sería obtener un módelo que prediga la demanda de bicicletas. Al evaluar el mapa de calor de correlaciones encontramos que las variables más prometedoras para ser consideradas en un modelo de predicción debido a su aparente superior poder explicativo de la demanda de bicicletas son:\n",
    "\n",
    "*Con correlación positiva*\n",
    "* Hora (hr)  \n",
    "* temperatura (temp)  \n",
    "* Sensación térmica (atemp)  \n",
    "\n",
    "*Con correlación negativa*\n",
    "* Humedad (hum)\n",
    "\n",
    "No se toman en cuenta las variables de rentas casuales y registradas (casual y registered, respectivamente) debido a que con un componente de la demanda total de bicicletas."
   ]
  },
  {
   "attachments": {},
   "cell_type": "markdown",
   "metadata": {},
   "source": [
    "#### Análisis"
   ]
  },
  {
   "attachments": {},
   "cell_type": "markdown",
   "metadata": {},
   "source": [
    "##### 1. ¿Qué rango de hora es la de mayor demanda?"
   ]
  },
  {
   "cell_type": "code",
   "execution_count": 12,
   "metadata": {},
   "outputs": [
    {
     "name": "stdout",
     "output_type": "stream",
     "text": [
      "Demanda por hora\n"
     ]
    },
    {
     "data": {
      "text/html": [
       "<div>\n",
       "<style scoped>\n",
       "    .dataframe tbody tr th:only-of-type {\n",
       "        vertical-align: middle;\n",
       "    }\n",
       "\n",
       "    .dataframe tbody tr th {\n",
       "        vertical-align: top;\n",
       "    }\n",
       "\n",
       "    .dataframe thead th {\n",
       "        text-align: right;\n",
       "    }\n",
       "</style>\n",
       "<table border=\"1\" class=\"dataframe\">\n",
       "  <thead>\n",
       "    <tr style=\"text-align: right;\">\n",
       "      <th></th>\n",
       "      <th>hr</th>\n",
       "      <th>cnt</th>\n",
       "    </tr>\n",
       "  </thead>\n",
       "  <tbody>\n",
       "    <tr>\n",
       "      <th>17</th>\n",
       "      <td>17</td>\n",
       "      <td>336860</td>\n",
       "    </tr>\n",
       "    <tr>\n",
       "      <th>18</th>\n",
       "      <td>18</td>\n",
       "      <td>309772</td>\n",
       "    </tr>\n",
       "    <tr>\n",
       "      <th>8</th>\n",
       "      <td>8</td>\n",
       "      <td>261001</td>\n",
       "    </tr>\n",
       "    <tr>\n",
       "      <th>16</th>\n",
       "      <td>16</td>\n",
       "      <td>227748</td>\n",
       "    </tr>\n",
       "    <tr>\n",
       "      <th>19</th>\n",
       "      <td>19</td>\n",
       "      <td>226789</td>\n",
       "    </tr>\n",
       "    <tr>\n",
       "      <th>13</th>\n",
       "      <td>13</td>\n",
       "      <td>184919</td>\n",
       "    </tr>\n",
       "    <tr>\n",
       "      <th>12</th>\n",
       "      <td>12</td>\n",
       "      <td>184414</td>\n",
       "    </tr>\n",
       "    <tr>\n",
       "      <th>15</th>\n",
       "      <td>15</td>\n",
       "      <td>183149</td>\n",
       "    </tr>\n",
       "    <tr>\n",
       "      <th>14</th>\n",
       "      <td>14</td>\n",
       "      <td>175652</td>\n",
       "    </tr>\n",
       "    <tr>\n",
       "      <th>20</th>\n",
       "      <td>20</td>\n",
       "      <td>164550</td>\n",
       "    </tr>\n",
       "    <tr>\n",
       "      <th>9</th>\n",
       "      <td>9</td>\n",
       "      <td>159438</td>\n",
       "    </tr>\n",
       "    <tr>\n",
       "      <th>7</th>\n",
       "      <td>7</td>\n",
       "      <td>154171</td>\n",
       "    </tr>\n",
       "    <tr>\n",
       "      <th>11</th>\n",
       "      <td>11</td>\n",
       "      <td>151320</td>\n",
       "    </tr>\n",
       "    <tr>\n",
       "      <th>10</th>\n",
       "      <td>10</td>\n",
       "      <td>126257</td>\n",
       "    </tr>\n",
       "    <tr>\n",
       "      <th>21</th>\n",
       "      <td>21</td>\n",
       "      <td>125445</td>\n",
       "    </tr>\n",
       "    <tr>\n",
       "      <th>22</th>\n",
       "      <td>22</td>\n",
       "      <td>95612</td>\n",
       "    </tr>\n",
       "    <tr>\n",
       "      <th>23</th>\n",
       "      <td>23</td>\n",
       "      <td>63941</td>\n",
       "    </tr>\n",
       "    <tr>\n",
       "      <th>6</th>\n",
       "      <td>6</td>\n",
       "      <td>55132</td>\n",
       "    </tr>\n",
       "    <tr>\n",
       "      <th>0</th>\n",
       "      <td>0</td>\n",
       "      <td>39130</td>\n",
       "    </tr>\n",
       "    <tr>\n",
       "      <th>1</th>\n",
       "      <td>1</td>\n",
       "      <td>24164</td>\n",
       "    </tr>\n",
       "    <tr>\n",
       "      <th>2</th>\n",
       "      <td>2</td>\n",
       "      <td>16352</td>\n",
       "    </tr>\n",
       "    <tr>\n",
       "      <th>5</th>\n",
       "      <td>5</td>\n",
       "      <td>14261</td>\n",
       "    </tr>\n",
       "    <tr>\n",
       "      <th>3</th>\n",
       "      <td>3</td>\n",
       "      <td>8174</td>\n",
       "    </tr>\n",
       "    <tr>\n",
       "      <th>4</th>\n",
       "      <td>4</td>\n",
       "      <td>4428</td>\n",
       "    </tr>\n",
       "  </tbody>\n",
       "</table>\n",
       "</div>"
      ],
      "text/plain": [
       "    hr     cnt\n",
       "17  17  336860\n",
       "18  18  309772\n",
       "8    8  261001\n",
       "16  16  227748\n",
       "19  19  226789\n",
       "13  13  184919\n",
       "12  12  184414\n",
       "15  15  183149\n",
       "14  14  175652\n",
       "20  20  164550\n",
       "9    9  159438\n",
       "7    7  154171\n",
       "11  11  151320\n",
       "10  10  126257\n",
       "21  21  125445\n",
       "22  22   95612\n",
       "23  23   63941\n",
       "6    6   55132\n",
       "0    0   39130\n",
       "1    1   24164\n",
       "2    2   16352\n",
       "5    5   14261\n",
       "3    3    8174\n",
       "4    4    4428"
      ]
     },
     "execution_count": 12,
     "metadata": {},
     "output_type": "execute_result"
    }
   ],
   "source": [
    "# Guardando data agrupada por hora de la suma de registros totales de renta de bicicletas en un DataFrame\n",
    "c_by_hour=pd.DataFrame(dataset.groupby('hr')['cnt'].sum())\n",
    "c_by_hour.reset_index(inplace=True)\n",
    "# Mostrando resultados en formato tabular\n",
    "print('Demanda por hora')\n",
    "c_by_hour.sort_values(by='cnt', ascending=False)"
   ]
  },
  {
   "cell_type": "code",
   "execution_count": 13,
   "metadata": {},
   "outputs": [
    {
     "data": {
      "text/plain": [
       "Text(0.5, 1.0, 'Gráfico 1: Demanda por Hora')"
      ]
     },
     "execution_count": 13,
     "metadata": {},
     "output_type": "execute_result"
    },
    {
     "data": {
      "image/png": "[encoded data removed]",
      "text/plain": [
       "<Figure size 1500x800 with 1 Axes>"
      ]
     },
     "metadata": {},
     "output_type": "display_data"
    }
   ],
   "source": [
    "# Gráfica de barras para demanda por hora\n",
    "\n",
    "# Definiendo tamaño del gráfico\n",
    "plt.figure(figsize=(15, 8))\n",
    "\n",
    "# Definiendo gráfico\n",
    "graph1=sns.barplot(x='hr',y='cnt',data=c_by_hour)\n",
    "graph1.set_title('Gráfico 1: Demanda por Hora', fontsize=16, pad=12)"
   ]
  },
  {
   "attachments": {},
   "cell_type": "markdown",
   "metadata": {},
   "source": [
    "**Respuesta**\n",
    "\n",
    "De la gráfica se puede observar que la mayor demanda para los dos años analizados en el dataset ocurre entre 17:00 y 18:00 horas. Lo mismo se puede comprobar con los datos en formato tabular."
   ]
  },
  {
   "attachments": {},
   "cell_type": "markdown",
   "metadata": {},
   "source": [
    "##### 2. ¿Qué temporada es la mas alta?"
   ]
  },
  {
   "cell_type": "code",
   "execution_count": 14,
   "metadata": {},
   "outputs": [
    {
     "name": "stdout",
     "output_type": "stream",
     "text": [
      "Demanda por Temporada\n"
     ]
    },
    {
     "data": {
      "text/html": [
       "<div>\n",
       "<style scoped>\n",
       "    .dataframe tbody tr th:only-of-type {\n",
       "        vertical-align: middle;\n",
       "    }\n",
       "\n",
       "    .dataframe tbody tr th {\n",
       "        vertical-align: top;\n",
       "    }\n",
       "\n",
       "    .dataframe thead th {\n",
       "        text-align: right;\n",
       "    }\n",
       "</style>\n",
       "<table border=\"1\" class=\"dataframe\">\n",
       "  <thead>\n",
       "    <tr style=\"text-align: right;\">\n",
       "      <th></th>\n",
       "      <th>season</th>\n",
       "      <th>cnt</th>\n",
       "    </tr>\n",
       "  </thead>\n",
       "  <tbody>\n",
       "    <tr>\n",
       "      <th>2</th>\n",
       "      <td>3</td>\n",
       "      <td>1061129</td>\n",
       "    </tr>\n",
       "    <tr>\n",
       "      <th>1</th>\n",
       "      <td>2</td>\n",
       "      <td>918589</td>\n",
       "    </tr>\n",
       "    <tr>\n",
       "      <th>3</th>\n",
       "      <td>4</td>\n",
       "      <td>841613</td>\n",
       "    </tr>\n",
       "    <tr>\n",
       "      <th>0</th>\n",
       "      <td>1</td>\n",
       "      <td>471348</td>\n",
       "    </tr>\n",
       "  </tbody>\n",
       "</table>\n",
       "</div>"
      ],
      "text/plain": [
       "  season      cnt\n",
       "2      3  1061129\n",
       "1      2   918589\n",
       "3      4   841613\n",
       "0      1   471348"
      ]
     },
     "execution_count": 14,
     "metadata": {},
     "output_type": "execute_result"
    }
   ],
   "source": [
    "# Guardando data agrupada por temporada de la suma de registros totales de renta de bicicletas en un DataFrame\n",
    "c_by_season=pd.DataFrame(dataset.groupby('season')['cnt'].sum())\n",
    "c_by_season.reset_index(inplace=True)\n",
    "# Mostrando resultados en forma tabular\n",
    "print('Demanda por Temporada')\n",
    "c_by_season.sort_values(by='cnt', ascending=False)"
   ]
  },
  {
   "cell_type": "code",
   "execution_count": 15,
   "metadata": {},
   "outputs": [
    {
     "data": {
      "text/plain": [
       "Text(0.5, 1.0, 'Gráfico 2: Demanda por Temporada')"
      ]
     },
     "execution_count": 15,
     "metadata": {},
     "output_type": "execute_result"
    },
    {
     "data": {
      "image/png": "[encoded data removed]",
      "text/plain": [
       "<Figure size 1500x800 with 1 Axes>"
      ]
     },
     "metadata": {},
     "output_type": "display_data"
    }
   ],
   "source": [
    "# Gráfica de barras para demanda por temporada\n",
    "\n",
    "# Definiendo tamaño del gráfico\n",
    "plt.figure(figsize=(15, 8))\n",
    "\n",
    "# Definiendo gráfico\n",
    "graph2=sns.barplot(x='season',y='cnt',data=c_by_season)\n",
    "graph2.set_title('Gráfico 2: Demanda por Temporada', fontsize=16, pad=12)"
   ]
  },
  {
   "attachments": {},
   "cell_type": "markdown",
   "metadata": {},
   "source": [
    "**Respuesta**\n",
    "\n",
    "En el gráfico 2 se muestra que la temporada 3, *fall*, es la temporada más alta, seguida de la temporada 2, *verano*."
   ]
  },
  {
   "attachments": {},
   "cell_type": "markdown",
   "metadata": {},
   "source": [
    "##### 3. ¿Es la temperatura relevante para el modelo?\n",
    "\n",
    "El enfoque utilizado para medir la relevancia de la temperatura para un módelo predictivo para la variable *cnt* consistirá en definir un modelo de regresión lineal que estime esta demanda total (*cnt*, como variable dependiente) en función de otra variable del dataset que se elegirá de entre las que se explicó en la sección de *Análisis Exploratorio* que tenían mayores posibilidades de tener un poder explicativo alto para la variable dependiente elegida: *hr*, *temp*, *atemp* y *hum*.\n",
    "\n",
    "Se elegirá la variable *hr* como variable independiente inicial. La otras tres no se tomán en cuenta inicialmente, pues son el objeto del análisis del beneficio marginal que aportan al modelo al ser incluidas.\n",
    "\n",
    "Como primer paso se gráfican las variables *hr* y *cnt* en un gráfico de dispersión."
   ]
  },
  {
   "cell_type": "code",
   "execution_count": 16,
   "metadata": {},
   "outputs": [
    {
     "data": {
      "image/png": "[encoded data removed]",
      "text/plain": [
       "<Figure size 640x480 with 1 Axes>"
      ]
     },
     "metadata": {},
     "output_type": "display_data"
    }
   ],
   "source": [
    "fig=sns.scatterplot(x='hr', y='cnt', data=dataset)"
   ]
  },
  {
   "attachments": {},
   "cell_type": "markdown",
   "metadata": {},
   "source": [
    "**Creando datasets de entrenamiento y prueba**\n",
    "\n",
    "Se divide el dataset en un set de training y otro de testing."
   ]
  },
  {
   "cell_type": "code",
   "execution_count": 17,
   "metadata": {},
   "outputs": [],
   "source": [
    "msk = np.random.rand(len(dataset)) < 0.8\n",
    "train = dataset[msk]\n",
    "test = dataset[~msk]"
   ]
  },
  {
   "attachments": {},
   "cell_type": "markdown",
   "metadata": {},
   "source": [
    "**Módelo de Regresión Lineal uni-variable**\n",
    "\n",
    "Como primer paso, se entrena un modelo con el dataset *train*, usando la librería sklearn."
   ]
  },
  {
   "cell_type": "code",
   "execution_count": 18,
   "metadata": {},
   "outputs": [
    {
     "name": "stdout",
     "output_type": "stream",
     "text": [
      "Coefficients:  [[10.4010922]]\n",
      "Intercept:  [70.73290463]\n"
     ]
    }
   ],
   "source": [
    "from sklearn import linear_model\n",
    "reg1 = linear_model.LinearRegression()\n",
    "train_x = np.asanyarray(train[['hr']])\n",
    "train_y = np.asanyarray(train[['cnt']])\n",
    "reg1.fit (train_x, train_y)\n",
    "# Coeficientes del módelo estimado\n",
    "print ('Coefficients: ', reg1.coef_)\n",
    "print ('Intercept: ',reg1.intercept_)"
   ]
  },
  {
   "attachments": {},
   "cell_type": "markdown",
   "metadata": {},
   "source": [
    "El modelo obtenido se muestra en la siguiente gráfica."
   ]
  },
  {
   "cell_type": "code",
   "execution_count": 19,
   "metadata": {},
   "outputs": [
    {
     "data": {
      "text/plain": [
       "Text(0, 0.5, 'cnt')"
      ]
     },
     "execution_count": 19,
     "metadata": {},
     "output_type": "execute_result"
    },
    {
     "data": {
      "image/png": "[encoded data removed]",
      "text/plain": [
       "<Figure size 640x480 with 1 Axes>"
      ]
     },
     "metadata": {},
     "output_type": "display_data"
    }
   ],
   "source": [
    "plt.scatter(train.hr, train.cnt,  color='blue')\n",
    "plt.plot(train_x, reg1.coef_[0][0]*train_x + reg1.intercept_[0], '-r')\n",
    "plt.xlabel('hr')\n",
    "plt.ylabel('cnt')"
   ]
  },
  {
   "attachments": {},
   "cell_type": "markdown",
   "metadata": {},
   "source": [
    "El siguiente paso es validar el modelo usando el dataset de testing."
   ]
  },
  {
   "cell_type": "code",
   "execution_count": 20,
   "metadata": {},
   "outputs": [
    {
     "name": "stdout",
     "output_type": "stream",
     "text": [
      "Error medio absoluto: 122.91\n",
      "Suma residual de los cuadrados (MSE): 26512.88\n",
      "R2-score: -4.20\n"
     ]
    }
   ],
   "source": [
    "from sklearn.metrics import r2_score\n",
    "\n",
    "test_x = np.asanyarray(test[['hr']])\n",
    "test_y = np.asanyarray(test[['cnt']])\n",
    "test_y_ = reg1.predict(test_x)\n",
    "\n",
    "print('Error medio absoluto: %.2f' % np.mean(np.absolute(test_y_ - test_y)))\n",
    "print('Suma residual de los cuadrados (MSE): %.2f' % np.mean((test_y_ - test_y) ** 2))\n",
    "print('R2-score: %.2f' % r2_score(test_y_ , test_y))"
   ]
  },
  {
   "attachments": {},
   "cell_type": "markdown",
   "metadata": {},
   "source": [
    "**Verificando efecto de la variable *temp* en el modelo**\n",
    "\n",
    "Se repite el proceso, pero esta vez convirtiendo el modelo en uno de regresión lineal bi-variable, en función de *hr* y *temp*. Se utilizarán los mismos datasets de training y testing ya definidos."
   ]
  },
  {
   "cell_type": "code",
   "execution_count": 21,
   "metadata": {},
   "outputs": [
    {
     "name": "stdout",
     "output_type": "stream",
     "text": [
      "Coefficients:  [[  9.1150687  335.63219884]]\n",
      "Intercept:  [-81.03227753]\n"
     ]
    }
   ],
   "source": [
    "reg2 = linear_model.LinearRegression()\n",
    "train_x = np.asanyarray(train[['hr', 'temp']])\n",
    "train_y = np.asanyarray(train[['cnt']])\n",
    "reg2.fit (train_x, train_y)\n",
    "# Coeficientes del módelo estimado\n",
    "print ('Coefficients: ', reg2.coef_)\n",
    "print ('Intercept: ',reg2.intercept_)"
   ]
  },
  {
   "attachments": {},
   "cell_type": "markdown",
   "metadata": {},
   "source": [
    "El siguiente paso es validar el modelo usando el dataset de testing."
   ]
  },
  {
   "cell_type": "code",
   "execution_count": 22,
   "metadata": {},
   "outputs": [
    {
     "name": "stdout",
     "output_type": "stream",
     "text": [
      "Error medio absoluto: 111.58\n",
      "Suma residual de los cuadrados (MSE): 22272.57\n",
      "R2-score: -1.41\n"
     ]
    }
   ],
   "source": [
    "test_x = np.asanyarray(test[['hr', 'temp']])\n",
    "test_y = np.asanyarray(test[['cnt']])\n",
    "test_y_ = reg2.predict(test_x)\n",
    "\n",
    "print('Error medio absoluto: %.2f' % np.mean(np.absolute(test_y_ - test_y)))\n",
    "print('Suma residual de los cuadrados (MSE): %.2f' % np.mean((test_y_ - test_y) ** 2))\n",
    "print('R2-score: %.2f' % r2_score(test_y_ , test_y))"
   ]
  },
  {
   "attachments": {},
   "cell_type": "markdown",
   "metadata": {},
   "source": [
    "**CONCLUSIÓN**\n",
    "\n",
    "Comparando las métricas de evaluación de ambos modelos desarrollados encontramos que todos ellos mejoran para con el módelo bi-variable, tal y como se muestra a continuación:\n",
    "\n",
    "|Modelo|Variables independientes|Variable dependiente|Error medio absoluto|MSE|R2-score|\n",
    "|---|---|---|---|---|---|\n",
    "|Uni-variable|hr|cnt|122.85|26812.15|-4.25|\n",
    "|Bi-variable|hr, temp|cnt|111.56|22976.20|-1.50|\n",
    "\n",
    "*Se concluye que la **temperatura es relevante para el modelo**.*"
   ]
  },
  {
   "attachments": {},
   "cell_type": "markdown",
   "metadata": {},
   "source": [
    "##### 4. ¿Es la humedad relevante para el modelo?\n",
    "\n",
    "El principio a utilizar es el mismo que para el caso de la temperatura. Ya se conoce el modelo que relaciona *hr* y *cnt*. Se considerará ahora el caso en el que se incorpora la variable *hum* a este modelo y así crear uno bi-variable. Se utilizarán los mismos datasets de training y testing ya definidos."
   ]
  },
  {
   "cell_type": "code",
   "execution_count": 23,
   "metadata": {},
   "outputs": [
    {
     "name": "stdout",
     "output_type": "stream",
     "text": [
      "Coefficients:  [[   8.7854973  -213.59344627]]\n",
      "Intercept:  [223.3158678]\n"
     ]
    }
   ],
   "source": [
    "reg3 = linear_model.LinearRegression()\n",
    "train_x = np.asanyarray(train[['hr', 'hum']])\n",
    "train_y = np.asanyarray(train[['cnt']])\n",
    "reg3.fit (train_x, train_y)\n",
    "# Coeficientes del módelo estimado\n",
    "print ('Coefficients: ', reg3.coef_)\n",
    "print ('Intercept: ',reg3.intercept_)"
   ]
  },
  {
   "attachments": {},
   "cell_type": "markdown",
   "metadata": {},
   "source": [
    "Ahora se valida el modelo usando el dataset de testing."
   ]
  },
  {
   "cell_type": "code",
   "execution_count": 24,
   "metadata": {},
   "outputs": [
    {
     "name": "stdout",
     "output_type": "stream",
     "text": [
      "Error medio absoluto: 117.31\n",
      "Suma residual de los cuadrados (MSE): 24664.54\n",
      "R2-score: -2.62\n"
     ]
    }
   ],
   "source": [
    "test_x = np.asanyarray(test[['hr', 'hum']])\n",
    "test_y = np.asanyarray(test[['cnt']])\n",
    "test_y_ = reg3.predict(test_x)\n",
    "\n",
    "print('Error medio absoluto: %.2f' % np.mean(np.absolute(test_y_ - test_y)))\n",
    "print('Suma residual de los cuadrados (MSE): %.2f' % np.mean((test_y_ - test_y) ** 2))\n",
    "print('R2-score: %.2f' % r2_score(test_y_ , test_y))"
   ]
  },
  {
   "attachments": {},
   "cell_type": "markdown",
   "metadata": {},
   "source": [
    "**CONCLUSIÓN**\n",
    "\n",
    "Realizando la comparación del modelo uni-variable con el modelo bi-variable que incorpora *hum*, nuevamente encontramos que todos ellos mejoran para con el módelo bi-variable:\n",
    "\n",
    "|Modelo|Variables independientes|Variable dependiente|Error medio absoluto|MSE|R2-score|\n",
    "|---|---|---|---|---|---|\n",
    "|Uni-variable|hr|cnt|122.85|26812.15|-4.25|\n",
    "|Bi-variable|hr, hum|cnt|116.99|25189.27|-2.68|\n",
    "\n",
    "*Como se puede comprobar, la **humedad es relevante para el modelo**, aunque en menor grado en comparación con el efecto que produce incorporar la temperatura en el modelo.*"
   ]
  },
  {
   "attachments": {},
   "cell_type": "markdown",
   "metadata": {},
   "source": [
    "##### 5. ¿Qué condiciones serian ideales para nuestra demanda?\n",
    "\n",
    "La forma analítica de encontrar las condiciones ideales implicaría encontrar un modelo multivariable, probablemente en función de humedad y temperatura, y realizar un análisis de optimización para encontrar los valores de las variables independientes que maximizan la demanda. Este tipo de análisis escapan del alcance del presente documento.\n",
    "\n",
    "Se realizará un análisis exploratorio de humedad y temperatura a partir de una gráfica de densidad bi-variable."
   ]
  },
  {
   "cell_type": "code",
   "execution_count": 25,
   "metadata": {},
   "outputs": [
    {
     "data": {
      "text/plain": [
       "<AxesSubplot:xlabel='temp', ylabel='hum'>"
      ]
     },
     "execution_count": 25,
     "metadata": {},
     "output_type": "execute_result"
    },
    {
     "data": {
      "image/png": "[encoded data removed]",
      "text/plain": [
       "<Figure size 500x500 with 1 Axes>"
      ]
     },
     "metadata": {},
     "output_type": "display_data"
    }
   ],
   "source": [
    "sns.set_theme(style='darkgrid')\n",
    "\n",
    "# Set up the figure\n",
    "f, ax = plt.subplots(figsize=(5, 5))\n",
    "ax.set_aspect(\"equal\")\n",
    "\n",
    "cmap = sns.cubehelix_palette(start=2.1, light=1, as_cmap=True)\n",
    "\n",
    "# Draw a contour plot to represent each bivariate density\n",
    "sns.kdeplot(\n",
    "    data=dataset,\n",
    "    x='temp',\n",
    "    y='hum',\n",
    "    cmap=cmap,\n",
    "    fill=True,\n",
    "    thresh=.1,\n",
    ")"
   ]
  },
  {
   "attachments": {},
   "cell_type": "markdown",
   "metadata": {},
   "source": [
    "Al graficar la función de densidad bivariable de temperatura y humedad encontramos que esta tiene dos puntos máximos aproximadamente en (0.33, 0.50) y (0.64, 0.82). Estos puntos son los de mayor densidad, es decir, los que más frecuentemente se observan en términos de clima para la ciudad en la que está ubicado este servicio de renta de bicicletas. Desarrollando un modelo de regresión lineal en función de temperatura y humedad es posible encontrar una demanda de rentas de bicicletas estimada."
   ]
  },
  {
   "cell_type": "code",
   "execution_count": 26,
   "metadata": {},
   "outputs": [
    {
     "name": "stdout",
     "output_type": "stream",
     "text": [
      "Coefficients:  [[ 362.20740932 -274.68326081]]\n",
      "Intercept:  [183.192855]\n"
     ]
    }
   ],
   "source": [
    "reg4 = linear_model.LinearRegression()\n",
    "train_x = np.asanyarray(train[['temp', 'hum']])\n",
    "train_y = np.asanyarray(train[['cnt']])\n",
    "reg4.fit (train_x, train_y)\n",
    "# Coeficientes del módelo estimado\n",
    "print ('Coefficients: ', reg4.coef_)\n",
    "print ('Intercept: ',reg4.intercept_)"
   ]
  },
  {
   "attachments": {},
   "cell_type": "markdown",
   "metadata": {},
   "source": [
    "Se valida el modelo con el dataset de testing."
   ]
  },
  {
   "cell_type": "code",
   "execution_count": 27,
   "metadata": {},
   "outputs": [
    {
     "name": "stdout",
     "output_type": "stream",
     "text": [
      "Error medio absoluto: 113.56\n",
      "Suma residual de los cuadrados (MSE): 22684.15\n",
      "R2-score: -1.74\n"
     ]
    }
   ],
   "source": [
    "test_x = np.asanyarray(test[['temp', 'hum']])\n",
    "test_y = np.asanyarray(test[['cnt']])\n",
    "test_y_ = reg4.predict(test_x)\n",
    "\n",
    "print('Error medio absoluto: %.2f' % np.mean(np.absolute(test_y_ - test_y)))\n",
    "print('Suma residual de los cuadrados (MSE): %.2f' % np.mean((test_y_ - test_y) ** 2))\n",
    "print('R2-score: %.2f' % r2_score(test_y_ , test_y))"
   ]
  },
  {
   "attachments": {},
   "cell_type": "markdown",
   "metadata": {},
   "source": [
    "En cuanto a parámetros, este modelo es muy similar el desarrollado con las variables *hr* y *temp*. Esto refuerza el hecho de la relevancia de la temperatura para el modelo, pues la presencia de esta variable mejora los parámetros, independientemente si esta acompañada de *hr* o *hum*. Se estimará el valor de la demanda con este modelo para los valores de mayor densidad de *temp* y *hum*."
   ]
  },
  {
   "cell_type": "code",
   "execution_count": 33,
   "metadata": {},
   "outputs": [
    {
     "name": "stdout",
     "output_type": "stream",
     "text": [
      "El valor de la demanda estimada de renta de bicicletas para una temperatura de 0.33 y humedad de 0.55 es [[151.64550663]]\n",
      "El valor de la demanda estimada de renta de bicicletas para una temperatura de 0.64 y humedad de 0.82 es [[189.7653231]]\n"
     ]
    }
   ],
   "source": [
    "y1=reg4.predict([[0.33, 0.55]])\n",
    "y2=reg4.predict([[0.64, 0.82]])\n",
    "print(f'El valor de la demanda estimada de renta de bicicletas para una temperatura de 0.33 y humedad de 0.55 es {y1}')\n",
    "print(f'El valor de la demanda estimada de renta de bicicletas para una temperatura de 0.64 y humedad de 0.82 es {y2}')"
   ]
  },
  {
   "attachments": {},
   "cell_type": "markdown",
   "metadata": {},
   "source": [
    "##### Modelo para Estimación de Demanda de Bicicletas\n",
    "\n",
    "Hasta el momento se han desarrollado cuatro modelos de regresión lineal, uno uni-variable y tres bi-variable. A continuación se desarrolla un modelo más utilizando k-fold cross validation."
   ]
  },
  {
   "cell_type": "code",
   "execution_count": 110,
   "metadata": {},
   "outputs": [
    {
     "name": "stdout",
     "output_type": "stream",
     "text": [
      "Los coeficientes promedio son: β1=8.9721603506801, β1=335.8859214764747, β0=-81.40213668328681.\n"
     ]
    },
    {
     "data": {
      "text/plain": [
       "{'fit_time': array([0.00223804, 0.00157595, 0.00145197, 0.00193691, 0.00179315]),\n",
       " 'score_time': array([0.00100899, 0.00081301, 0.00108719, 0.00083613, 0.00170422]),\n",
       " 'estimator': [LinearRegression(),\n",
       "  LinearRegression(),\n",
       "  LinearRegression(),\n",
       "  LinearRegression(),\n",
       "  LinearRegression()],\n",
       " 'test_r2': array([0.29460196, 0.26726314, 0.28635951, 0.2686007 , 0.28303867]),\n",
       " 'test_neg_mean_absolute_error': array([-113.70372614, -117.66316456, -112.95045639, -111.70802627,\n",
       "        -110.97970524]),\n",
       " 'test_neg_root_mean_squared_error': array([-153.40609949, -161.05687364, -153.13256234, -150.79369983,\n",
       "        -150.77523666])}"
      ]
     },
     "execution_count": 110,
     "metadata": {},
     "output_type": "execute_result"
    }
   ],
   "source": [
    "from sklearn.model_selection import train_test_split\n",
    "from sklearn.model_selection import KFold\n",
    "from sklearn.model_selection import cross_validate\n",
    "\n",
    "# Definiendo variables independientes y dependientes\n",
    "X = dataset[['hr', 'temp']].astype(float)\n",
    "y = dataset['cnt'].astype(float)\n",
    "\n",
    "# Definiendo parámetros de validación cruzada K-fold\n",
    "cv = KFold(n_splits=5, random_state=1, shuffle=True)\n",
    "\n",
    "# Seleccionando métricas deseadas de la validación cruzada K-fold\n",
    "scores=['r2', 'neg_mean_absolute_error', 'neg_root_mean_squared_error']\n",
    "\n",
    "# Seleccionando modelo de regresión lineal\n",
    "model = linear_model.LinearRegression()\n",
    "\n",
    "# Utilizando validación cruzada K-fold para evaluar el modelo\n",
    "results = cross_validate(model, X, y, scoring=scores, cv=cv, return_estimator=True)\n",
    "\n",
    "# Obteniendo coeficientes promedio\n",
    "coefs=pd.DataFrame(columns=['c1','c2','i'])\n",
    "for model in results['estimator']:\n",
    "    estimatorv=np.append(results['estimator'][0].coef_, results['estimator'][0].intercept_)\n",
    "    coefs=pd.concat([coefs,pd.DataFrame(estimatorv.reshape(1,-1), columns=list(coefs))], ignore_index=True)\n",
    "\n",
    "# Coeficientes promedio\n",
    "print(f'Los coeficientes promedio son: β1={coefs.c1.mean()}, β1={coefs.c2.mean()}, β0={coefs.i.mean()}.')\n",
    "\n",
    "# Resultados de validación cruzada K-folds\n",
    "results"
   ]
  }
 ],
 "metadata": {
  "kernelspec": {
   "display_name": "Python 3",
   "language": "python",
   "name": "python3"
  },
  "language_info": {
   "codemirror_mode": {
    "name": "ipython",
    "version": 3
   },
   "file_extension": ".py",
   "mimetype": "text/x-python",
   "name": "python",
   "nbconvert_exporter": "python",
   "pygments_lexer": "ipython3",
   "version": "3.9.13"
  },
  "orig_nbformat": 4
 },
 "nbformat": 4,
 "nbformat_minor": 2
}
